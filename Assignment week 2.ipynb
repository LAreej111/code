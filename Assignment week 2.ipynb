{
 "cells": [
  {
   "cell_type": "markdown",
   "id": "fa25711b",
   "metadata": {},
   "source": [
    "# Q:1"
   ]
  },
  {
   "cell_type": "code",
   "execution_count": 1,
   "id": "e13e6e82",
   "metadata": {},
   "outputs": [
    {
     "name": "stdout",
     "output_type": "stream",
     "text": [
      "a    1\n",
      "x    4\n",
      "c    9\n",
      "2    6\n",
      "e    7\n",
      "dtype: int64\n"
     ]
    }
   ],
   "source": [
    "import pandas as pd\n",
    "\n",
    "# Create a pandas Series without using a dictionary\n",
    "series = pd.Series([1, 4, 9, 6, 7], index=['a', 'x', 'c', '2', 'e'])\n",
    "\n",
    "# Print the Series\n",
    "print(series)\n"
   ]
  },
  {
   "cell_type": "markdown",
   "id": "2f041f2b",
   "metadata": {},
   "source": [
    "# q:2"
   ]
  },
  {
   "cell_type": "code",
   "execution_count": 3,
   "id": "ad2a0603",
   "metadata": {},
   "outputs": [
    {
     "name": "stdout",
     "output_type": "stream",
     "text": [
      "Bilal     42\n",
      "Ayesha    48\n",
      "Hadia     39\n",
      "dtype: int64\n"
     ]
    }
   ],
   "source": [
    "import pandas as pd\n",
    "\n",
    "# Create a pandas Series directly\n",
    "series = pd.Series([42, 48, 39], index=['Bilal', 'Ayesha', 'Hadia'])\n",
    "\n",
    "# Print the series\n",
    "print(series)\n"
   ]
  },
  {
   "cell_type": "markdown",
   "id": "16537a53",
   "metadata": {},
   "source": [
    "# q:3"
   ]
  },
  {
   "cell_type": "code",
   "execution_count": 4,
   "id": "3344378d",
   "metadata": {},
   "outputs": [
    {
     "name": "stdout",
     "output_type": "stream",
     "text": [
      "        day  temperature  windspeed  event\n",
      "0  1/1/2017           32          6   Rain\n",
      "1  1/2/2017           35          7  Sunny\n",
      "2  1/3/2017           28          2   Snow\n",
      "3  1/4/2017           24          7   Snow\n",
      "4  1/5/2017           32          4   Rain\n",
      "5  1/6/2017           31          2  Sunny\n"
     ]
    }
   ],
   "source": [
    "import pandas as pd\n",
    "\n",
    "# Create a dictionary with data\n",
    "data = {\n",
    "    'day': ['1/1/2017', '1/2/2017', '1/3/2017', '1/4/2017', '1/5/2017', '1/6/2017'],\n",
    "    'temperature': [32, 35, 28, 24, 32, 31],\n",
    "    'windspeed': [6, 7, 2, 7, 4, 2],\n",
    "    'event': ['Rain', 'Sunny', 'Snow', 'Snow', 'Rain', 'Sunny']\n",
    "}\n",
    "\n",
    "# Create a DataFrame from the dictionary\n",
    "df = pd.DataFrame(data)\n",
    "\n",
    "# Print the DataFrame\n",
    "print(df)\n"
   ]
  },
  {
   "cell_type": "markdown",
   "id": "0a4cc4d2",
   "metadata": {},
   "source": [
    "# Q:4"
   ]
  },
  {
   "cell_type": "code",
   "execution_count": 5,
   "id": "e9efa9a4",
   "metadata": {},
   "outputs": [
    {
     "name": "stdout",
     "output_type": "stream",
     "text": [
      "        day  temperature  windspeed  event\n",
      "a  1/1/2017           32          6   Rain\n",
      "b  1/2/2017           35          7  Sunny\n",
      "c  1/3/2017           28          2   Snow\n",
      "d  1/4/2017           24          7   Snow\n",
      "e  1/5/2017           32          4   Rain\n",
      "f  1/6/2017           31          2  Sunny\n"
     ]
    }
   ],
   "source": [
    "import pandas as pd\n",
    "\n",
    "# Create a dictionary with the data\n",
    "data = {\n",
    "    'day': ['1/1/2017', '1/2/2017', '1/3/2017', '1/4/2017', '1/5/2017', '1/6/2017'],\n",
    "    'temperature': [32, 35, 28, 24, 32, 31],\n",
    "    'windspeed': [6, 7, 2, 7, 4, 2],\n",
    "    'event': ['Rain', 'Sunny', 'Snow', 'Snow', 'Rain', 'Sunny']\n",
    "}\n",
    "\n",
    "# Define the index explicitly\n",
    "index = ['a', 'b', 'c', 'd', 'e', 'f']\n",
    "\n",
    "# Create a pandas DataFrame from the dictionary with the specified index\n",
    "df = pd.DataFrame(data, index=index)\n",
    "\n",
    "# Print the DataFrame\n",
    "print(df)\n"
   ]
  },
  {
   "cell_type": "markdown",
   "id": "e7303fe0",
   "metadata": {},
   "source": [
    "# Q:5"
   ]
  },
  {
   "cell_type": "code",
   "execution_count": 6,
   "id": "ef32ae47",
   "metadata": {},
   "outputs": [
    {
     "name": "stdout",
     "output_type": "stream",
     "text": [
      "Mean Temperature: 30.333333333333332\n",
      "Maximum Temperature: 35\n",
      "Minimum Temperature: 24\n"
     ]
    }
   ],
   "source": [
    "import pandas as pd\n",
    "\n",
    "# Create a dictionary with the data\n",
    "data = {\n",
    "    'day': ['1/1/2017', '1/2/2017', '1/3/2017', '1/4/2017', '1/5/2017', '1/6/2017'],\n",
    "    'temperature': [32, 35, 28, 24, 32, 31],\n",
    "    'windspeed': [6, 7, 2, 7, 4, 2],\n",
    "    'event': ['Rain', 'Sunny', 'Snow', 'Snow', 'Rain', 'Sunny']\n",
    "}\n",
    "\n",
    "# Create a pandas DataFrame from the dictionary\n",
    "df = pd.DataFrame(data)\n",
    "\n",
    "# Calculate mean, maximum, and minimum for the 'temperature' column\n",
    "temperature_mean = df['temperature'].mean()\n",
    "temperature_max = df['temperature'].max()\n",
    "temperature_min = df['temperature'].min()\n",
    "\n",
    "# Print the results\n",
    "print(\"Mean Temperature:\", temperature_mean)\n",
    "print(\"Maximum Temperature:\", temperature_max)\n",
    "print(\"Minimum Temperature:\", temperature_min)\n"
   ]
  },
  {
   "cell_type": "markdown",
   "id": "b1b2b876",
   "metadata": {},
   "source": [
    "# Q:6"
   ]
  },
  {
   "cell_type": "code",
   "execution_count": 10,
   "id": "b3a02a71",
   "metadata": {},
   "outputs": [
    {
     "name": "stdout",
     "output_type": "stream",
     "text": [
      "                                First Name                       Email  \\\n",
      "Sex    Job Title                                                         \n",
      "Female Phytotherapist              Phillip       bethany14@example.com   \n",
      "Male   Homeopath                  Kristine       bthompson@example.com   \n",
      "       Market researcher           Yesenia   kaitlinkaiser@example.com   \n",
      "       Waste management officer       Erin         tconner@example.org   \n",
      "Female Intelligence analyst      Katherine     conniecowan@example.com   \n",
      "...                                    ...                         ...   \n",
      "       Software engineer            Dennis         bmartin@example.org   \n",
      "       Barrister                     Steve       latasha46@example.net   \n",
      "Male   Police officer               Wesley        regina11@example.org   \n",
      "Female Broadcast journalist         Summer  alexiscantrell@example.org   \n",
      "Male   IT sales professional        Mariah       pcopeland@example.org   \n",
      "\n",
      "                                                 Phone  \n",
      "Sex    Job Title                                        \n",
      "Female Phytotherapist                214.112.6044x4913  \n",
      "Male   Homeopath                          277.609.7938  \n",
      "       Market researcher                  584.094.6111  \n",
      "       Waste management officer  001-171-649-9856x5553  \n",
      "Female Intelligence analyst      +1-773-151-6685x49162  \n",
      "...                                                ...  \n",
      "       Software engineer          001-095-524-2112x257  \n",
      "       Barrister                      001-865-478-5157  \n",
      "Male   Police officer               995-542-3004x76800  \n",
      "Female Broadcast journalist       001-273-685-6932x092  \n",
      "Male   IT sales professional       (341)594-6554x44657  \n",
      "\n",
      "[98 rows x 3 columns]\n"
     ]
    }
   ],
   "source": [
    "import pandas as pd\n",
    "\n",
    "# Define the file path to the CSV file\n",
    "file_path = 'people.csv'\n",
    "\n",
    "# Import CSV, selecting specific columns and skipping rows\n",
    "# Note: Skiprows skips the rows by index, so [0, 4] corresponds to skipping rows 1 and 5.\n",
    "# Index_col sets the specified columns as the index.\n",
    "data = pd.read_csv(file_path, usecols=[\"First Name\", \"Sex\", \"Email\", \"Phone\", \"Job Title\"], skiprows=[1, 5], index_col=[\"Sex\", \"Job Title\"])\n",
    "\n",
    "# Export the DataFrame to a new CSV file\n",
    "data.to_csv('NewPeople.csv')\n",
    "print(data)"
   ]
  },
  {
   "cell_type": "markdown",
   "id": "8b737a92",
   "metadata": {},
   "source": [
    "# Q:7"
   ]
  },
  {
   "cell_type": "code",
   "execution_count": 11,
   "id": "708d59f1",
   "metadata": {},
   "outputs": [
    {
     "name": "stdout",
     "output_type": "stream",
     "text": [
      "0  Saiqa\n",
      "1  Aimen\n"
     ]
    }
   ],
   "source": [
    "import pandas as pd\n",
    "\n",
    "# Read the Excel file, skipping row 2 and importing only the first and last column from sheet 1\n",
    "sample_df = pd.read_excel('SampleWork.xlsx', sheet_name=0, usecols=[0, -1], skiprows=[1])\n",
    "\n",
    "# Set row 2 as the header\n",
    "sample_df.columns = sample_df.iloc[0]\n",
    "\n",
    "# Drop the second row, as it's already set as the header\n",
    "sample_df = sample_df[1:]\n",
    "\n",
    "# Export the DataFrame to a new sheet in the same Excel file\n",
    "sample_df.to_excel('SampleWork.xlsx', index=False, sheet_name='NewSheet')\n",
    "\n",
    "# Optionally, print the DataFrame to verify the changes\n",
    "print(sample_df)\n"
   ]
  },
  {
   "cell_type": "markdown",
   "id": "257fc601",
   "metadata": {},
   "source": [
    "# Q:8"
   ]
  },
  {
   "cell_type": "code",
   "execution_count": 12,
   "id": "b99b6d08",
   "metadata": {},
   "outputs": [
    {
     "name": "stdout",
     "output_type": "stream",
     "text": [
      "AICP_DF:\n",
      "       Age   Address Qualification  Height\n",
      "Name                                      \n",
      "Sonia   27    Lahore           Msc     5.1\n",
      "Hifza   22   Sialkot           MCA     5.1\n",
      "Kabir   32  Peshawar           Phd     5.2\n",
      "Jazim   23       Ihr           Bsc     5.1\n",
      "\n",
      "\n",
      "df1:\n",
      "    Name Qualification\n",
      "0  Sonia           Msc\n",
      "1  Bilal            MA\n",
      "2  Hifza           MCA\n",
      "3  Kabir           Phd\n",
      "4  Jazim           Bsc\n",
      "\n",
      "Row with index 'Hifza':\n",
      "Age                   22\n",
      "Address          Sialkot\n",
      "Qualification        MCA\n",
      "Height               5.1\n",
      "Name: Hifza, dtype: object\n",
      "\n",
      "Row with index 3:\n",
      "Age                    32\n",
      "Address          Peshawar\n",
      "Qualification         Phd\n",
      "Height                5.2\n",
      "Name: Kabir, dtype: object\n"
     ]
    }
   ],
   "source": [
    "import pandas as pd\n",
    "\n",
    "# Create the dataframe\n",
    "data = {\n",
    "    'Name': ['Sonia', 'Bilal', 'Hifza', 'Kabir', 'Jazim'],\n",
    "    'Age': [27, 24, 22, 32, 23],\n",
    "    'Address': ['Lahore', 'Karachi', 'Sialkot', 'Peshawar', 'Ihr'],\n",
    "    'Qualification': ['Msc', 'MA', 'MCA', 'Phd', 'Bsc']\n",
    "}\n",
    "\n",
    "AICP_DF = pd.DataFrame(data)\n",
    "\n",
    "# Select 'Name' and 'Qualification' columns and save to df1\n",
    "df1 = AICP_DF[['Name', 'Qualification']]\n",
    "\n",
    "# Add a new column \"Height\" to AICP_DF\n",
    "AICP_DF['Height'] = [5.1, 6.2, 5.1, 5.2, 5.1]\n",
    "\n",
    "# Set column \"Name\" as the index column\n",
    "AICP_DF.set_index('Name', inplace=True)\n",
    "\n",
    "# Retrieve row with index \"Hifza\"\n",
    "row_hifza = AICP_DF.loc['Hifza']\n",
    "\n",
    "# Retrieve row with index 3\n",
    "row_index_3 = AICP_DF.iloc[3]\n",
    "\n",
    "# Drop row with index \"Bilal\"\n",
    "AICP_DF.drop('Bilal', inplace=True)\n",
    "\n",
    "print(\"AICP_DF:\")\n",
    "print(AICP_DF)\n",
    "print(\"\\n\")\n",
    "print(\"df1:\")\n",
    "print(df1)\n",
    "print(\"\\nRow with index 'Hifza':\")\n",
    "print(row_hifza)\n",
    "print(\"\\nRow with index 3:\")\n",
    "print(row_index_3)\n"
   ]
  },
  {
   "cell_type": "code",
   "execution_count": null,
   "id": "4186c4cc",
   "metadata": {},
   "outputs": [],
   "source": []
  }
 ],
 "metadata": {
  "kernelspec": {
   "display_name": "Python 3 (ipykernel)",
   "language": "python",
   "name": "python3"
  },
  "language_info": {
   "codemirror_mode": {
    "name": "ipython",
    "version": 3
   },
   "file_extension": ".py",
   "mimetype": "text/x-python",
   "name": "python",
   "nbconvert_exporter": "python",
   "pygments_lexer": "ipython3",
   "version": "3.9.7"
  }
 },
 "nbformat": 4,
 "nbformat_minor": 5
}
