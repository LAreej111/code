{
 "cells": [
  {
   "cell_type": "markdown",
   "id": "f5db168c",
   "metadata": {},
   "source": [
    "# Assignment of Week 1 "
   ]
  },
  {
   "cell_type": "markdown",
   "id": "a5ae067b",
   "metadata": {},
   "source": [
    "Q#1 Write a NumPy program to create an array of all even integers from 30 to 70."
   ]
  },
  {
   "cell_type": "code",
   "execution_count": 1,
   "id": "cd6880d9",
   "metadata": {},
   "outputs": [
    {
     "name": "stdout",
     "output_type": "stream",
     "text": [
      "Array of even integers from 30 to 70: [30 32 34 36 38 40 42 44 46 48 50 52 54 56 58 60 62 64 66 68 70]\n"
     ]
    }
   ],
   "source": [
    "import numpy as np\n",
    "even_nbr = np.arange(30, 71, 2)\n",
    "print(\"Array of even integers from 30 to 70:\", even_nbr)"
   ]
  },
  {
   "cell_type": "markdown",
   "id": "1ffa3290",
   "metadata": {},
   "source": [
    "Q#2 Write a NumPy program to generate an array of 15 random numbers from a standard normal distribution."
   ]
  },
  {
   "cell_type": "code",
   "execution_count": 2,
   "id": "0efc7d4c",
   "metadata": {},
   "outputs": [
    {
     "name": "stdout",
     "output_type": "stream",
     "text": [
      "Array of 15 random numbers from standard normal distribution: [-0.4597532   0.55961769  0.70445748  0.14845739 -0.91539564 -1.52407817\n",
      "  0.1076366   0.01662245 -0.95962236  2.15484993 -0.30192169  0.28744986\n",
      "  0.58131312  0.79982201  0.06785372]\n"
     ]
    }
   ],
   "source": [
    "random_array = np.random.randn(15)\n",
    "print(\"Array of 15 random numbers from standard normal distribution:\", random_array)"
   ]
  },
  {
   "cell_type": "markdown",
   "id": "4625f24b",
   "metadata": {},
   "source": [
    "Q#3 How to compute the cross-product of two matrices in NumPy?"
   ]
  },
  {
   "cell_type": "code",
   "execution_count": 3,
   "id": "e4934874",
   "metadata": {},
   "outputs": [
    {
     "name": "stdout",
     "output_type": "stream",
     "text": [
      "Cross-product of two matrices:\n",
      "[-4 23]\n"
     ]
    }
   ],
   "source": [
    "m1 = np.array([[2, 6], [9, 5]])\n",
    "m2 = np.array([[3, 7], [8, 7]])\n",
    "cross_product = np.cross(m1, m2)\n",
    "print(\"Cross-product of two matrices:\")\n",
    "print(cross_product)"
   ]
  },
  {
   "cell_type": "markdown",
   "id": "c030e507",
   "metadata": {},
   "source": [
    "Q#4 How to compute the determinant of an array using NumPy?"
   ]
  },
  {
   "cell_type": "code",
   "execution_count": 4,
   "id": "0b2fe09f",
   "metadata": {},
   "outputs": [
    {
     "name": "stdout",
     "output_type": "stream",
     "text": [
      "Determinant of the array: -15.999999999999998\n"
     ]
    }
   ],
   "source": [
    "ar = np.array([[6, 4], [7, 2]])\n",
    "determinant = np.linalg.det(ar)\n",
    "print(\"Determinant of the array:\", determinant)"
   ]
  },
  {
   "cell_type": "markdown",
   "id": "a0b18ab9",
   "metadata": {},
   "source": [
    "Q#5 How to create a 3x3x3 array with random values using NumPy?"
   ]
  },
  {
   "cell_type": "code",
   "execution_count": 5,
   "id": "e0a7b070",
   "metadata": {},
   "outputs": [
    {
     "name": "stdout",
     "output_type": "stream",
     "text": [
      "3x3x3 array with random values:\n",
      "[[[0.47989323 0.02543295 0.34308905]\n",
      "  [0.67219734 0.99624144 0.73911596]\n",
      "  [0.43312803 0.32471179 0.5061351 ]]\n",
      "\n",
      " [[0.06995057 0.09305554 0.09296824]\n",
      "  [0.89295089 0.54303307 0.57827727]\n",
      "  [0.13924585 0.25024222 0.1109937 ]]\n",
      "\n",
      " [[0.40617223 0.72477766 0.78550826]\n",
      "  [0.66790537 0.5060138  0.84259728]\n",
      "  [0.49364864 0.81091791 0.61010695]]]\n"
     ]
    }
   ],
   "source": [
    "RA = np.random.random((3, 3, 3))\n",
    "print(\"3x3x3 array with random values:\")\n",
    "print(RA)"
   ]
  },
  {
   "cell_type": "markdown",
   "id": "46efed11",
   "metadata": {},
   "source": [
    "Q#6 How to create a 5x5 array with random values and find the minimum and maximum values using NumPy?"
   ]
  },
  {
   "cell_type": "code",
   "execution_count": 7,
   "id": "b94219b2",
   "metadata": {},
   "outputs": [
    {
     "name": "stdout",
     "output_type": "stream",
     "text": [
      "5x5 array with random values:\n",
      "[[0.13971122 0.11924293 0.97625986 0.65778421 0.36624366]\n",
      " [0.9970849  0.91276277 0.4471132  0.76302775 0.82598643]\n",
      " [0.71888228 0.59506576 0.25421772 0.79928792 0.4760688 ]\n",
      " [0.08708639 0.05225336 0.18206117 0.43691669 0.27607639]\n",
      " [0.17846747 0.53481242 0.8409858  0.2331371  0.32384072]]\n",
      "Minimum value: 0.052253357480292806\n",
      "Maximum value: 0.9970849000645767\n"
     ]
    }
   ],
   "source": [
    "random_5x5 = np.random.random((5, 5))\n",
    "print(\"5x5 array with random values:\")\n",
    "print(random_5x5)\n",
    "c = np.min(random_5x5)\n",
    "d = np.max(random_5x5)\n",
    "print(\"Minimum value:\", c)\n",
    "print(\"Maximum value:\", d)"
   ]
  },
  {
   "cell_type": "markdown",
   "id": "6eed50be",
   "metadata": {},
   "source": [
    "Q#7 How to compute the mean, standard deviation, and variance of a given array along the second axis in NumPy?"
   ]
  },
  {
   "cell_type": "code",
   "execution_count": 8,
   "id": "d03bceb2",
   "metadata": {},
   "outputs": [
    {
     "name": "stdout",
     "output_type": "stream",
     "text": [
      "Mean along the second axis: [8. 5.]\n",
      "Standard deviation along the second axis: [0.81649658 0.81649658]\n",
      "Variance along the second axis: [0.66666667 0.66666667]\n"
     ]
    }
   ],
   "source": [
    "array = np.array([[9, 8, 7], [6, 5, 4]])\n",
    "mean = np.mean(array, axis=1)\n",
    "std_deviation = np.std(array, axis=1)\n",
    "variance = np.var(array, axis=1)\n",
    "print(\"Mean along the second axis:\", mean)\n",
    "print(\"Standard deviation along the second axis:\", std_deviation)\n",
    "print(\"Variance along the second axis:\", variance)"
   ]
  },
  {
   "cell_type": "code",
   "execution_count": null,
   "id": "448a0b4c",
   "metadata": {},
   "outputs": [],
   "source": []
  }
 ],
 "metadata": {
  "kernelspec": {
   "display_name": "Python 3 (ipykernel)",
   "language": "python",
   "name": "python3"
  },
  "language_info": {
   "codemirror_mode": {
    "name": "ipython",
    "version": 3
   },
   "file_extension": ".py",
   "mimetype": "text/x-python",
   "name": "python",
   "nbconvert_exporter": "python",
   "pygments_lexer": "ipython3",
   "version": "3.9.7"
  }
 },
 "nbformat": 4,
 "nbformat_minor": 5
}
